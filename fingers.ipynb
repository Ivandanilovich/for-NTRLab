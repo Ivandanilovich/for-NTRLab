{
  "nbformat": 4,
  "nbformat_minor": 0,
  "metadata": {
    "colab": {
      "name": "fingers.ipynb",
      "version": "0.3.2",
      "provenance": []
    },
    "language_info": {
      "name": "python",
      "version": "3.6.4",
      "mimetype": "text/x-python",
      "codemirror_mode": {
        "name": "ipython",
        "version": 3
      },
      "pygments_lexer": "ipython3",
      "nbconvert_exporter": "python",
      "file_extension": ".py"
    },
    "kernelspec": {
      "name": "python3",
      "display_name": "Python 3"
    },
    "accelerator": "GPU"
  },
  "cells": [
    {
      "cell_type": "code",
      "metadata": {
        "_uuid": "8f2839f25d086af736a60e9eeb907d3b93b6e0e5",
        "_cell_guid": "b1076dfc-b9ad-4769-8c92-a6c4dae69d19",
        "trusted": true,
        "id": "pzWtr4RmHAwx",
        "colab_type": "code",
        "colab": {}
      },
      "source": [
        "import numpy as np\n",
        "import pandas as pd\n",
        "import matplotlib.pyplot as plt\n",
        "from PIL import Image\n",
        "import torch\n",
        "from torchvision import transforms as trans\n",
        "from torch.utils.data import Dataset, DataLoader\n",
        "from torchvision.datasets import ImageFolder"
      ],
      "execution_count": 0,
      "outputs": []
    },
    {
      "cell_type": "markdown",
      "metadata": {
        "id": "K8iHcAm5HAw5",
        "colab_type": "text"
      },
      "source": [
        "Загрузка модели:"
      ]
    },
    {
      "cell_type": "code",
      "metadata": {
        "trusted": true,
        "id": "08HJSlGIHAw7",
        "colab_type": "code",
        "colab": {}
      },
      "source": [
        "!pip install pretrainedmodels\n",
        "from pretrainedmodels import xception \n",
        "model = xception()"
      ],
      "execution_count": 0,
      "outputs": []
    },
    {
      "cell_type": "markdown",
      "metadata": {
        "id": "mQAFfXK2HAxA",
        "colab_type": "text"
      },
      "source": [
        "Инициализация dataloaders:"
      ]
    },
    {
      "cell_type": "code",
      "metadata": {
        "trusted": true,
        "id": "eA1hkuX8HAxB",
        "colab_type": "code",
        "colab": {}
      },
      "source": [
        "dataset = ImageFolder('../input/ml3taskfingers', transform =\n",
        "                      trans.Compose([\n",
        "                                     trans.ToTensor(),\n",
        "                                     trans.ToPILImage(), \n",
        "                                     trans.RandomRotation(15), \n",
        "                                     trans.RandomHorizontalFlip(), \n",
        "                                     trans.ColorJitter(0.1, 0.1, 0.1, 0.03), \n",
        "                                     trans.ToTensor()\n",
        "                                    ])\n",
        "                      )\n",
        "val_size = 250\n",
        "dataset,valid = torch.utils.data.random_split(dataset, (len(dataset)-val_size, val_size))\n",
        "dataloader = DataLoader(dataset, batch_size=8, shuffle=False)\n",
        "dataloadervalid = DataLoader(valid, batch_size=4, shuffle=False)"
      ],
      "execution_count": 0,
      "outputs": []
    },
    {
      "cell_type": "markdown",
      "metadata": {
        "id": "Rtn1qQFCHAxG",
        "colab_type": "text"
      },
      "source": [
        "Пример данных:"
      ]
    },
    {
      "cell_type": "code",
      "metadata": {
        "trusted": true,
        "id": "A5VzGNjbHAxI",
        "colab_type": "code",
        "colab": {}
      },
      "source": [
        "it = iter(dataloader)\n",
        "t = trans.ToPILImage()"
      ],
      "execution_count": 0,
      "outputs": []
    },
    {
      "cell_type": "code",
      "metadata": {
        "trusted": true,
        "id": "AjKffvV9HAxM",
        "colab_type": "code",
        "colab": {}
      },
      "source": [
        "i , a = next(it)\n",
        "plt.imshow(t(i[0]))"
      ],
      "execution_count": 0,
      "outputs": []
    },
    {
      "cell_type": "markdown",
      "metadata": {
        "id": "9ytCPmupHAxR",
        "colab_type": "text"
      },
      "source": [
        "Transfer learning:"
      ]
    },
    {
      "cell_type": "code",
      "metadata": {
        "trusted": true,
        "id": "szlLTbGZHAxT",
        "colab_type": "code",
        "colab": {}
      },
      "source": [
        "for name, child in model.named_children():\n",
        "    if name=='block5':\n",
        "        break\n",
        "    for pars in child.parameters():\n",
        "        pars.requires_gradu=False\n",
        "        \n",
        "model.fc = torch.nn.Linear(2048, 6)\n",
        "optimizer = torch.optim.Adam(model.parameters(), lr=0.001, amsgrad=True)\n",
        "loss_fn = torch.nn.CrossEntropyLoss()"
      ],
      "execution_count": 0,
      "outputs": []
    },
    {
      "cell_type": "code",
      "metadata": {
        "trusted": true,
        "id": "Gd1WgJlhHAxY",
        "colab_type": "code",
        "colab": {}
      },
      "source": [
        "def acc(ans, pred):\n",
        "    pred = torch.argmax(pred, dim=1)\n",
        "    accuracy = torch.mean((ans == pred).float())\n",
        "    return accuracy.item() "
      ],
      "execution_count": 0,
      "outputs": []
    },
    {
      "cell_type": "code",
      "metadata": {
        "trusted": true,
        "id": "7eQv7mJ8HAxd",
        "colab_type": "code",
        "colab": {}
      },
      "source": [
        "model = model.cuda()"
      ],
      "execution_count": 0,
      "outputs": []
    },
    {
      "cell_type": "code",
      "metadata": {
        "trusted": true,
        "id": "B9HOtsO1HAxh",
        "colab_type": "code",
        "colab": {}
      },
      "source": [
        "epoches = 5"
      ],
      "execution_count": 0,
      "outputs": []
    },
    {
      "cell_type": "code",
      "metadata": {
        "trusted": true,
        "id": "4OqZtThJHAxo",
        "colab_type": "code",
        "colab": {}
      },
      "source": [
        "for epoch in range(epoches):\n",
        "    ans, preds = [], []  \n",
        "    model.train()\n",
        "    for batch in dataloader:\n",
        "        X, y = batch\n",
        "        X = X.cuda()\n",
        "        y = y.cuda()\n",
        "        optimizer.zero_grad() \n",
        "        output = model(X)\n",
        "        target = y\n",
        "        preds.append(output)\n",
        "        ans.append(target)\n",
        "        loss = loss_fn(output, target)\n",
        "        loss.backward()\n",
        "        optimizer.step()\n",
        "        \n",
        "    ans = torch.cat(ans)\n",
        "    preds = torch.cat(preds)\n",
        "    train_accuracy = acc(ans, preds)\n",
        "\n",
        "    print(f'Epoch {epoch}; train_accuracy {train_accuracy:.4f};')    "
      ],
      "execution_count": 0,
      "outputs": []
    },
    {
      "cell_type": "code",
      "metadata": {
        "trusted": true,
        "id": "UdrlasUiHAxt",
        "colab_type": "code",
        "colab": {}
      },
      "source": [
        "model = model.cpu()\n",
        "model.eval()"
      ],
      "execution_count": 0,
      "outputs": []
    },
    {
      "cell_type": "code",
      "metadata": {
        "trusted": true,
        "id": "SHxrorglHAxx",
        "colab_type": "code",
        "colab": {}
      },
      "source": [
        "ans, preds, f = [], [], []\n",
        "\n",
        "for batch in dataloadervalid:\n",
        "    X, y = batch\n",
        "    X = X\n",
        "    y = y\n",
        "    output = model(X)\n",
        "    target = y\n",
        "    preds.append(output)\n",
        "    ans.append(target)\n",
        "    f.append(X)\n"
      ],
      "execution_count": 0,
      "outputs": []
    },
    {
      "cell_type": "code",
      "metadata": {
        "trusted": true,
        "id": "KRDPPpktHAx1",
        "colab_type": "code",
        "colab": {}
      },
      "source": [
        "ans = torch.cat(ans)\n",
        "preds = torch.cat(preds)"
      ],
      "execution_count": 0,
      "outputs": []
    },
    {
      "cell_type": "code",
      "metadata": {
        "trusted": true,
        "id": "QiY1aSveHAx6",
        "colab_type": "code",
        "colab": {}
      },
      "source": [
        "val_acc = (ans==preds).sum().item() / len(ans)\n",
        "print(f'val_acc: {val_acc}');"
      ],
      "execution_count": 0,
      "outputs": []
    },
    {
      "cell_type": "code",
      "metadata": {
        "trusted": true,
        "id": "28b2iZmCHAx-",
        "colab_type": "code",
        "colab": {}
      },
      "source": [
        "mask = (ans!=preds)\n",
        "eans, epreds = ans[mask], preds[mask]\n",
        "feat = torch.cat(f)\n",
        "ef = feat[mask]"
      ],
      "execution_count": 0,
      "outputs": []
    },
    {
      "cell_type": "markdown",
      "metadata": {
        "id": "1c_EFj1OHAyC",
        "colab_type": "text"
      },
      "source": [
        "Примеры ошибок:"
      ]
    },
    {
      "cell_type": "code",
      "metadata": {
        "trusted": true,
        "id": "EDODLFsiHAyD",
        "colab_type": "code",
        "colab": {}
      },
      "source": [
        "f, axes = plt.subplots(5,5, figsize=(30, 30))\n",
        "\n",
        "for x, a, feature, ax in zip(eans, epreds, ef, axes.ravel()):\n",
        "    ax.imshow(t(feature))\n",
        "    ax.set_title(f'Predicted as {a}, true is {x}')"
      ],
      "execution_count": 0,
      "outputs": []
    }
  ]
}